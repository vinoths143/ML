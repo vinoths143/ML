{
 "cells": [
  {
   "cell_type": "markdown",
   "metadata": {},
   "source": [
    "1.1 Write a Python Program(with class concepts) to find the area of the triangle using the below formula. area = (s*(s-a)*(s-b)*(s-c)) ** 0.5 Function to take the length of the sides of triangle from user should be defined in the parent class and function to calculate the area should be defined in subclass.\n"
   ]
  },
  {
   "cell_type": "code",
   "execution_count": 1,
   "metadata": {},
   "outputs": [
    {
     "name": "stdout",
     "output_type": "stream",
     "text": [
      "Area of triangle :  12.727922061357855\n"
     ]
    }
   ],
   "source": [
    "#Parent class to take sides of the triangle\n",
    "class triangle:\n",
    "    def __init__(self,a,b,c):\n",
    "        self.side_a=a\n",
    "        self.side_b=b\n",
    "        self.side_c=c\n",
    "#Sub class Calculate Area of Triangle\n",
    "class area(triangle):\n",
    "    \n",
    "    def t_area(self):\n",
    "        self.side_a\n",
    "        self.side_b\n",
    "        self.side_c\n",
    "        \n",
    "        s=(self.side_a+self.side_b+self.side_c)/2\n",
    "        return (s*(s-self.side_a)*(s-self.side_a)*(s-self.side_a)) ** 0.5\n",
    "#calculating the area\n",
    "\n",
    "Test_Area=area(3,4,5)\n",
    "print('Area of triangle : ', Test_Area.t_area())"
   ]
  },
  {
   "cell_type": "markdown",
   "metadata": {},
   "source": [
    "1.2 Write a function that takes a list of words and an integer n and returns the list of words that are longer than n.\n"
   ]
  },
  {
   "cell_type": "code",
   "execution_count": 13,
   "metadata": {},
   "outputs": [
    {
     "name": "stdout",
     "output_type": "stream",
     "text": [
      "Enter max length of words you want to remove: 6\n",
      "Want to enter a word,Enter N for exiting else anything: V\n",
      "Enter a word: Jio\n",
      "Want to enter a word,Enter N for exiting else anything: S\n",
      "Enter a word: Cognizant\n",
      "Want to enter a word,Enter N for exiting else anything: D\n",
      "Enter a word: Google\n",
      "Want to enter a word,Enter N for exiting else anything: N\n",
      "Entered List:  ['Jio', 'Cognizant', 'Google']\n"
     ]
    },
    {
     "data": {
      "text/plain": [
       "['Cognizant']"
      ]
     },
     "execution_count": 13,
     "metadata": {},
     "output_type": "execute_result"
    }
   ],
   "source": [
    "def filter_long_words():\n",
    "    word_list=[]\n",
    "    big_list=[]\n",
    "    Length=int(input('Enter max length of words you want to remove: '))\n",
    "    while True:\n",
    "        control=input('Want to enter a word,Enter N for exiting else anything: ')\n",
    "        if control=='N':\n",
    "            break\n",
    "        \n",
    "        k=input('Enter a word: ')\n",
    "        word_list.append(k)\n",
    "    print('Entered List: ',word_list)\n",
    "    for i in word_list:\n",
    "        if len(i)>Length:\n",
    "            big_list.append(i)\n",
    "    return big_list\n",
    "filter_long_words()\n"
   ]
  },
  {
   "cell_type": "markdown",
   "metadata": {},
   "source": [
    "2.1 Write a Python program using function concept that maps list of words into a list of integers representing the lengths of the corresponding words. Hint: If a list [ ab,cde,erty] is passed on to the python function output should come as [2,3,4] Here 2,3 and 4 are the lengths of the words in the list.\n"
   ]
  },
  {
   "cell_type": "code",
   "execution_count": 5,
   "metadata": {},
   "outputs": [
    {
     "data": {
      "text/plain": [
       "[2, 3, 4]"
      ]
     },
     "execution_count": 5,
     "metadata": {},
     "output_type": "execute_result"
    }
   ],
   "source": [
    "def char_len(lst):\n",
    "    nums=[]\n",
    "    for i in lst:\n",
    "        nums.append(len(i)) #adding length of words to list\n",
    "    return nums\n",
    "char_len(['aa','bbb','cccc'])"
   ]
  },
  {
   "cell_type": "markdown",
   "metadata": {},
   "source": [
    "2.2 Write a Python function which takes a character (i.e. a string of length 1) and returns True if it is a vowel, False otherwise.\n"
   ]
  },
  {
   "cell_type": "code",
   "execution_count": 7,
   "metadata": {},
   "outputs": [],
   "source": [
    "def vowel_check(a):\n",
    "    \n",
    "    vowels=['a','e','i','o','u']\n",
    "    for k in vowels:\n",
    "        if a==k:\n",
    "            \n",
    "            print(True)\n",
    "            break\n",
    "        \n",
    "    else:\n",
    "        print(False)\n"
   ]
  },
  {
   "cell_type": "code",
   "execution_count": 8,
   "metadata": {},
   "outputs": [
    {
     "name": "stdout",
     "output_type": "stream",
     "text": [
      "True\n"
     ]
    }
   ],
   "source": [
    "#checking with a vowel\n",
    "vowel_check('i')\n"
   ]
  },
  {
   "cell_type": "code",
   "execution_count": 9,
   "metadata": {},
   "outputs": [
    {
     "name": "stdout",
     "output_type": "stream",
     "text": [
      "False\n"
     ]
    }
   ],
   "source": [
    "#checking without a vowel\n",
    "vowel_check('k')"
   ]
  },
  {
   "cell_type": "code",
   "execution_count": null,
   "metadata": {},
   "outputs": [],
   "source": []
  }
 ],
 "metadata": {
  "kernelspec": {
   "display_name": "Python [conda env:py36] *",
   "language": "python",
   "name": "conda-env-py36-py"
  },
  "language_info": {
   "codemirror_mode": {
    "name": "ipython",
    "version": 3
   },
   "file_extension": ".py",
   "mimetype": "text/x-python",
   "name": "python",
   "nbconvert_exporter": "python",
   "pygments_lexer": "ipython3",
   "version": "3.6.9"
  }
 },
 "nbformat": 4,
 "nbformat_minor": 2
}
